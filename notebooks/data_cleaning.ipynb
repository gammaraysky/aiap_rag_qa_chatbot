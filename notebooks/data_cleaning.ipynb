{
 "cells": [
  {
   "cell_type": "code",
   "execution_count": 1,
   "metadata": {},
   "outputs": [],
   "source": [
    "import pandas as pd "
   ]
  },
  {
   "cell_type": "code",
   "execution_count": 2,
   "metadata": {},
   "outputs": [],
   "source": [
    "df = pd.read_csv('scraped_data/augmented_data.csv', index_col=0)"
   ]
  },
  {
   "cell_type": "code",
   "execution_count": 3,
   "metadata": {},
   "outputs": [
    {
     "data": {
      "text/html": [
       "<div>\n",
       "<style scoped>\n",
       "    .dataframe tbody tr th:only-of-type {\n",
       "        vertical-align: middle;\n",
       "    }\n",
       "\n",
       "    .dataframe tbody tr th {\n",
       "        vertical-align: top;\n",
       "    }\n",
       "\n",
       "    .dataframe thead th {\n",
       "        text-align: right;\n",
       "    }\n",
       "</style>\n",
       "<table border=\"1\" class=\"dataframe\">\n",
       "  <thead>\n",
       "    <tr style=\"text-align: right;\">\n",
       "      <th></th>\n",
       "      <th>question</th>\n",
       "      <th>answers</th>\n",
       "    </tr>\n",
       "  </thead>\n",
       "  <tbody>\n",
       "    <tr>\n",
       "      <th>0</th>\n",
       "      <td>What are the differences between 100 Experimen...</td>\n",
       "      <td>\\n\\n\\n\\n \\n100E4I\\n100E4R\\n\\n\\n\\nCollaboration...</td>\n",
       "    </tr>\n",
       "    <tr>\n",
       "      <th>1</th>\n",
       "      <td>What are the differences between 100 experimen...</td>\n",
       "      <td>100E4I\\n100E4R\\n\\n\\n\\nDuration of cooperation\\...</td>\n",
       "    </tr>\n",
       "    <tr>\n",
       "      <th>2</th>\n",
       "      <td>How does an organisation apply for the 100 Exp...</td>\n",
       "      <td>\\nAISG will provide the templates for an organ...</td>\n",
       "    </tr>\n",
       "    <tr>\n",
       "      <th>3</th>\n",
       "      <td>How does an organization apply for the 100 Exp...</td>\n",
       "      <td>AISG provides templates for organizations to s...</td>\n",
       "    </tr>\n",
       "    <tr>\n",
       "      <th>4</th>\n",
       "      <td>What are my responsibilities as a Project Spon...</td>\n",
       "      <td>\\nTo ensure a successful outcome from the 100E...</td>\n",
       "    </tr>\n",
       "  </tbody>\n",
       "</table>\n",
       "</div>"
      ],
      "text/plain": [
       "                                            question  \\\n",
       "0  What are the differences between 100 Experimen...   \n",
       "1  What are the differences between 100 experimen...   \n",
       "2  How does an organisation apply for the 100 Exp...   \n",
       "3  How does an organization apply for the 100 Exp...   \n",
       "4  What are my responsibilities as a Project Spon...   \n",
       "\n",
       "                                             answers  \n",
       "0  \\n\\n\\n\\n \\n100E4I\\n100E4R\\n\\n\\n\\nCollaboration...  \n",
       "1  100E4I\\n100E4R\\n\\n\\n\\nDuration of cooperation\\...  \n",
       "2  \\nAISG will provide the templates for an organ...  \n",
       "3  AISG provides templates for organizations to s...  \n",
       "4  \\nTo ensure a successful outcome from the 100E...  "
      ]
     },
     "execution_count": 3,
     "metadata": {},
     "output_type": "execute_result"
    }
   ],
   "source": [
    "df.head()"
   ]
  },
  {
   "cell_type": "code",
   "execution_count": 4,
   "metadata": {},
   "outputs": [],
   "source": [
    "df['answers'] = df['answers'].replace(r'\\n', ' ', regex=True)"
   ]
  },
  {
   "cell_type": "code",
   "execution_count": 5,
   "metadata": {},
   "outputs": [
    {
     "data": {
      "text/html": [
       "<div>\n",
       "<style scoped>\n",
       "    .dataframe tbody tr th:only-of-type {\n",
       "        vertical-align: middle;\n",
       "    }\n",
       "\n",
       "    .dataframe tbody tr th {\n",
       "        vertical-align: top;\n",
       "    }\n",
       "\n",
       "    .dataframe thead th {\n",
       "        text-align: right;\n",
       "    }\n",
       "</style>\n",
       "<table border=\"1\" class=\"dataframe\">\n",
       "  <thead>\n",
       "    <tr style=\"text-align: right;\">\n",
       "      <th></th>\n",
       "      <th>question</th>\n",
       "      <th>answers</th>\n",
       "    </tr>\n",
       "  </thead>\n",
       "  <tbody>\n",
       "    <tr>\n",
       "      <th>0</th>\n",
       "      <td>What are the differences between 100 Experimen...</td>\n",
       "      <td>100E4I 100E4R    Collaboration duration ...</td>\n",
       "    </tr>\n",
       "    <tr>\n",
       "      <th>1</th>\n",
       "      <td>What are the differences between 100 experimen...</td>\n",
       "      <td>100E4I 100E4R    Duration of cooperation    9 ...</td>\n",
       "    </tr>\n",
       "    <tr>\n",
       "      <th>2</th>\n",
       "      <td>How does an organisation apply for the 100 Exp...</td>\n",
       "      <td>AISG will provide the templates for an organi...</td>\n",
       "    </tr>\n",
       "    <tr>\n",
       "      <th>3</th>\n",
       "      <td>How does an organization apply for the 100 Exp...</td>\n",
       "      <td>AISG provides templates for organizations to s...</td>\n",
       "    </tr>\n",
       "    <tr>\n",
       "      <th>4</th>\n",
       "      <td>What are my responsibilities as a Project Spon...</td>\n",
       "      <td>To ensure a successful outcome from the 100E ...</td>\n",
       "    </tr>\n",
       "  </tbody>\n",
       "</table>\n",
       "</div>"
      ],
      "text/plain": [
       "                                            question  \\\n",
       "0  What are the differences between 100 Experimen...   \n",
       "1  What are the differences between 100 experimen...   \n",
       "2  How does an organisation apply for the 100 Exp...   \n",
       "3  How does an organization apply for the 100 Exp...   \n",
       "4  What are my responsibilities as a Project Spon...   \n",
       "\n",
       "                                             answers  \n",
       "0        100E4I 100E4R    Collaboration duration ...  \n",
       "1  100E4I 100E4R    Duration of cooperation    9 ...  \n",
       "2   AISG will provide the templates for an organi...  \n",
       "3  AISG provides templates for organizations to s...  \n",
       "4   To ensure a successful outcome from the 100E ...  "
      ]
     },
     "execution_count": 5,
     "metadata": {},
     "output_type": "execute_result"
    }
   ],
   "source": [
    "df.head()"
   ]
  },
  {
   "cell_type": "code",
   "execution_count": 6,
   "metadata": {},
   "outputs": [],
   "source": [
    "df = df.drop(index = [0,1,24,25,26,27,28,29,98,99,104,105,198,199])"
   ]
  },
  {
   "cell_type": "code",
   "execution_count": 7,
   "metadata": {},
   "outputs": [],
   "source": [
    "for col in df.columns:\n",
    "    df[col] = df[col].apply(lambda x: x.strip().strip('\"'))"
   ]
  },
  {
   "cell_type": "code",
   "execution_count": 13,
   "metadata": {},
   "outputs": [],
   "source": [
    "df['question'].to_csv('training_data/training.source', index=False)\n",
    "df['answers'].to_csv('training_data/training.target', index=False)"
   ]
  },
  {
   "cell_type": "code",
   "execution_count": 12,
   "metadata": {},
   "outputs": [
    {
     "data": {
      "text/html": [
       "<div>\n",
       "<style scoped>\n",
       "    .dataframe tbody tr th:only-of-type {\n",
       "        vertical-align: middle;\n",
       "    }\n",
       "\n",
       "    .dataframe tbody tr th {\n",
       "        vertical-align: top;\n",
       "    }\n",
       "\n",
       "    .dataframe thead th {\n",
       "        text-align: right;\n",
       "    }\n",
       "</style>\n",
       "<table border=\"1\" class=\"dataframe\">\n",
       "  <thead>\n",
       "    <tr style=\"text-align: right;\">\n",
       "      <th></th>\n",
       "      <th>question</th>\n",
       "      <th>answers</th>\n",
       "    </tr>\n",
       "  </thead>\n",
       "  <tbody>\n",
       "    <tr>\n",
       "      <th>0</th>\n",
       "      <td>How does an organisation apply for the 100 Exp...</td>\n",
       "      <td>AISG will provide the templates for an organis...</td>\n",
       "    </tr>\n",
       "    <tr>\n",
       "      <th>1</th>\n",
       "      <td>How does an organization apply for the 100 Exp...</td>\n",
       "      <td>AISG provides templates for organizations to s...</td>\n",
       "    </tr>\n",
       "    <tr>\n",
       "      <th>2</th>\n",
       "      <td>What are my responsibilities as a Project Spon...</td>\n",
       "      <td>To ensure a successful outcome from the 100E p...</td>\n",
       "    </tr>\n",
       "    <tr>\n",
       "      <th>3</th>\n",
       "      <td>What are my responsibilities as a project spon...</td>\n",
       "      <td>To ensure the success of the 100E project, pro...</td>\n",
       "    </tr>\n",
       "    <tr>\n",
       "      <th>4</th>\n",
       "      <td>Can I have AI apprentices on my project?</td>\n",
       "      <td>AI apprentices will be assigned for all 7-mont...</td>\n",
       "    </tr>\n",
       "    <tr>\n",
       "      <th>...</th>\n",
       "      <td>...</td>\n",
       "      <td>...</td>\n",
       "    </tr>\n",
       "    <tr>\n",
       "      <th>185</th>\n",
       "      <td>I have an existing DataCamp Premium plan subsc...</td>\n",
       "      <td>Please note that you will not be able to activ...</td>\n",
       "    </tr>\n",
       "    <tr>\n",
       "      <th>186</th>\n",
       "      <td>How to use the voucher code?</td>\n",
       "      <td>Step 1Sign up for a LearnAI account. Refer to ...</td>\n",
       "    </tr>\n",
       "    <tr>\n",
       "      <th>187</th>\n",
       "      <td>How to use the coupon code?</td>\n",
       "      <td>Step 1Sign up for a LearnAI account. See FAQ \"...</td>\n",
       "    </tr>\n",
       "    <tr>\n",
       "      <th>188</th>\n",
       "      <td>The voucher code validity</td>\n",
       "      <td>The voucher code, INTMD-Z5ZN, is valid from 14...</td>\n",
       "    </tr>\n",
       "    <tr>\n",
       "      <th>189</th>\n",
       "      <td>Validity period of the voucher code</td>\n",
       "      <td>Voucher code, INTMD-Z5ZN, is valid from March ...</td>\n",
       "    </tr>\n",
       "  </tbody>\n",
       "</table>\n",
       "<p>190 rows × 2 columns</p>\n",
       "</div>"
      ],
      "text/plain": [
       "                                              question  \\\n",
       "0    How does an organisation apply for the 100 Exp...   \n",
       "1    How does an organization apply for the 100 Exp...   \n",
       "2    What are my responsibilities as a Project Spon...   \n",
       "3    What are my responsibilities as a project spon...   \n",
       "4             Can I have AI apprentices on my project?   \n",
       "..                                                 ...   \n",
       "185  I have an existing DataCamp Premium plan subsc...   \n",
       "186                       How to use the voucher code?   \n",
       "187                        How to use the coupon code?   \n",
       "188                          The voucher code validity   \n",
       "189                Validity period of the voucher code   \n",
       "\n",
       "                                               answers  \n",
       "0    AISG will provide the templates for an organis...  \n",
       "1    AISG provides templates for organizations to s...  \n",
       "2    To ensure a successful outcome from the 100E p...  \n",
       "3    To ensure the success of the 100E project, pro...  \n",
       "4    AI apprentices will be assigned for all 7-mont...  \n",
       "..                                                 ...  \n",
       "185  Please note that you will not be able to activ...  \n",
       "186  Step 1Sign up for a LearnAI account. Refer to ...  \n",
       "187  Step 1Sign up for a LearnAI account. See FAQ \"...  \n",
       "188  The voucher code, INTMD-Z5ZN, is valid from 14...  \n",
       "189  Voucher code, INTMD-Z5ZN, is valid from March ...  \n",
       "\n",
       "[190 rows x 2 columns]"
      ]
     },
     "execution_count": 12,
     "metadata": {},
     "output_type": "execute_result"
    }
   ],
   "source": [
    "df.reset_index(drop=True)"
   ]
  },
  {
   "cell_type": "code",
   "execution_count": null,
   "metadata": {},
   "outputs": [],
   "source": []
  }
 ],
 "metadata": {
  "kernelspec": {
   "display_name": "aiap-mini-project",
   "language": "python",
   "name": "python3"
  },
  "language_info": {
   "codemirror_mode": {
    "name": "ipython",
    "version": 3
   },
   "file_extension": ".py",
   "mimetype": "text/x-python",
   "name": "python",
   "nbconvert_exporter": "python",
   "pygments_lexer": "ipython3",
   "version": "3.10.10"
  },
  "orig_nbformat": 4
 },
 "nbformat": 4,
 "nbformat_minor": 2
}
