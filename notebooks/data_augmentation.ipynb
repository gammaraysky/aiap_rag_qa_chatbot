{
 "cells": [
  {
   "cell_type": "code",
   "execution_count": 7,
   "metadata": {},
   "outputs": [],
   "source": [
    "import pandas as pd \n",
    "\n",
    "df = pd.read_csv('scraped_data/scraped_data.csv', index_col=0)"
   ]
  },
  {
   "cell_type": "code",
   "execution_count": 8,
   "metadata": {},
   "outputs": [
    {
     "data": {
      "text/html": [
       "<div>\n",
       "<style scoped>\n",
       "    .dataframe tbody tr th:only-of-type {\n",
       "        vertical-align: middle;\n",
       "    }\n",
       "\n",
       "    .dataframe tbody tr th {\n",
       "        vertical-align: top;\n",
       "    }\n",
       "\n",
       "    .dataframe thead th {\n",
       "        text-align: right;\n",
       "    }\n",
       "</style>\n",
       "<table border=\"1\" class=\"dataframe\">\n",
       "  <thead>\n",
       "    <tr style=\"text-align: right;\">\n",
       "      <th></th>\n",
       "      <th>questions</th>\n",
       "      <th>answers</th>\n",
       "      <th>title</th>\n",
       "    </tr>\n",
       "  </thead>\n",
       "  <tbody>\n",
       "    <tr>\n",
       "      <th>0</th>\n",
       "      <td>What are the differences between 100 Experimen...</td>\n",
       "      <td>\\n\\n\\n\\n \\n100E4I\\n100E4R\\n\\n\\n\\nCollaboration...</td>\n",
       "      <td>100E</td>\n",
       "    </tr>\n",
       "    <tr>\n",
       "      <th>1</th>\n",
       "      <td>How does an organisation apply for the 100 Exp...</td>\n",
       "      <td>\\nAISG will provide the templates for an organ...</td>\n",
       "      <td>100E</td>\n",
       "    </tr>\n",
       "    <tr>\n",
       "      <th>2</th>\n",
       "      <td>What are my responsibilities as a Project Spon...</td>\n",
       "      <td>\\nTo ensure a successful outcome from the 100E...</td>\n",
       "      <td>100E</td>\n",
       "    </tr>\n",
       "    <tr>\n",
       "      <th>3</th>\n",
       "      <td>Can I have AI apprentices on my project?</td>\n",
       "      <td>\\nAI apprentices will be assigned for all 7-mo...</td>\n",
       "      <td>100E</td>\n",
       "    </tr>\n",
       "    <tr>\n",
       "      <th>4</th>\n",
       "      <td>Who can be the Principal Investigator (PI) or ...</td>\n",
       "      <td>\\nThe 100E PI (and Co-PI) has to be a full-tim...</td>\n",
       "      <td>100E</td>\n",
       "    </tr>\n",
       "  </tbody>\n",
       "</table>\n",
       "</div>"
      ],
      "text/plain": [
       "                                           questions  \\\n",
       "0  What are the differences between 100 Experimen...   \n",
       "1  How does an organisation apply for the 100 Exp...   \n",
       "2  What are my responsibilities as a Project Spon...   \n",
       "3           Can I have AI apprentices on my project?   \n",
       "4  Who can be the Principal Investigator (PI) or ...   \n",
       "\n",
       "                                             answers title  \n",
       "0  \\n\\n\\n\\n \\n100E4I\\n100E4R\\n\\n\\n\\nCollaboration...  100E  \n",
       "1  \\nAISG will provide the templates for an organ...  100E  \n",
       "2  \\nTo ensure a successful outcome from the 100E...  100E  \n",
       "3  \\nAI apprentices will be assigned for all 7-mo...  100E  \n",
       "4  \\nThe 100E PI (and Co-PI) has to be a full-tim...  100E  "
      ]
     },
     "execution_count": 8,
     "metadata": {},
     "output_type": "execute_result"
    }
   ],
   "source": [
    "df.head()"
   ]
  },
  {
   "cell_type": "code",
   "execution_count": 9,
   "metadata": {},
   "outputs": [
    {
     "name": "stdout",
     "output_type": "stream",
     "text": [
      "<class 'pandas.core.frame.DataFrame'>\n",
      "Int64Index: 103 entries, 0 to 2\n",
      "Data columns (total 3 columns):\n",
      " #   Column     Non-Null Count  Dtype \n",
      "---  ------     --------------  ----- \n",
      " 0   questions  103 non-null    object\n",
      " 1   answers    102 non-null    object\n",
      " 2   title      103 non-null    object\n",
      "dtypes: object(3)\n",
      "memory usage: 3.2+ KB\n"
     ]
    }
   ],
   "source": [
    "df.info()"
   ]
  },
  {
   "cell_type": "code",
   "execution_count": 10,
   "metadata": {},
   "outputs": [],
   "source": [
    "df = df.dropna()"
   ]
  },
  {
   "cell_type": "code",
   "execution_count": 11,
   "metadata": {},
   "outputs": [],
   "source": [
    "from deep_translator import GoogleTranslator\n",
    "import time \n",
    "import random\n",
    "\n",
    "# Define a function to back-translate a sentence\n",
    "def back_translate(sentence):\n",
    "    # Translate the sentence to a random language\n",
    "    lang = random.choice(['fr', 'es', 'de', 'it', 'nl', 'pt', 'ru', 'ja', 'ko', 'ar'])\n",
    "    translated = GoogleTranslator(source='auto', target=lang).translate(sentence)\n",
    "\n",
    "    time.sleep(1)\n",
    "    \n",
    "    # Translate the translated sentence back to English\n",
    "    back_translated = GoogleTranslator(source=lang, dest='en').translate(translated)\n",
    "    \n",
    "    return back_translated"
   ]
  },
  {
   "cell_type": "code",
   "execution_count": 12,
   "metadata": {},
   "outputs": [],
   "source": [
    "# Augment the data with back-translation\n",
    "augmented_data = []\n",
    "for i, row in df.iterrows():\n",
    "    question = row['questions']\n",
    "    answer = row['answers']\n",
    "    \n",
    "    # Perform back-translation on the question\n",
    "    back_translated_question = back_translate(question)\n",
    "    \n",
    "    # Perform back-translation on each answer\n",
    "    #back_translated_answers = []\n",
    "    back_translated_answer = back_translate(answer)\n",
    "    #back_translated_answers.append(back_translated_answer)\n",
    "    \n",
    "    # Add the original and back-translated data to the augmented data\n",
    "    augmented_data.append({\n",
    "        'question': question,\n",
    "        'answers': answer\n",
    "    })\n",
    "    augmented_data.append({\n",
    "        'question': back_translated_question,\n",
    "        'answers': back_translated_answer\n",
    "    })\n",
    "\n",
    "# Convert the augmented data to a pandas DataFrame\n",
    "augmented_df = pd.DataFrame(augmented_data)"
   ]
  },
  {
   "cell_type": "code",
   "execution_count": 13,
   "metadata": {},
   "outputs": [
    {
     "data": {
      "text/html": [
       "<div>\n",
       "<style scoped>\n",
       "    .dataframe tbody tr th:only-of-type {\n",
       "        vertical-align: middle;\n",
       "    }\n",
       "\n",
       "    .dataframe tbody tr th {\n",
       "        vertical-align: top;\n",
       "    }\n",
       "\n",
       "    .dataframe thead th {\n",
       "        text-align: right;\n",
       "    }\n",
       "</style>\n",
       "<table border=\"1\" class=\"dataframe\">\n",
       "  <thead>\n",
       "    <tr style=\"text-align: right;\">\n",
       "      <th></th>\n",
       "      <th>question</th>\n",
       "      <th>answers</th>\n",
       "    </tr>\n",
       "  </thead>\n",
       "  <tbody>\n",
       "    <tr>\n",
       "      <th>0</th>\n",
       "      <td>What are the differences between 100 Experimen...</td>\n",
       "      <td>\\n\\n\\n\\n \\n100E4I\\n100E4R\\n\\n\\n\\nCollaboration...</td>\n",
       "    </tr>\n",
       "    <tr>\n",
       "      <th>1</th>\n",
       "      <td>What are the differences between 100 experimen...</td>\n",
       "      <td>100E4I\\n100E4R\\n\\n\\n\\nDuration of cooperation\\...</td>\n",
       "    </tr>\n",
       "    <tr>\n",
       "      <th>2</th>\n",
       "      <td>How does an organisation apply for the 100 Exp...</td>\n",
       "      <td>\\nAISG will provide the templates for an organ...</td>\n",
       "    </tr>\n",
       "    <tr>\n",
       "      <th>3</th>\n",
       "      <td>How does an organization apply for the 100 Exp...</td>\n",
       "      <td>AISG provides templates for organizations to s...</td>\n",
       "    </tr>\n",
       "    <tr>\n",
       "      <th>4</th>\n",
       "      <td>What are my responsibilities as a Project Spon...</td>\n",
       "      <td>\\nTo ensure a successful outcome from the 100E...</td>\n",
       "    </tr>\n",
       "  </tbody>\n",
       "</table>\n",
       "</div>"
      ],
      "text/plain": [
       "                                            question  \\\n",
       "0  What are the differences between 100 Experimen...   \n",
       "1  What are the differences between 100 experimen...   \n",
       "2  How does an organisation apply for the 100 Exp...   \n",
       "3  How does an organization apply for the 100 Exp...   \n",
       "4  What are my responsibilities as a Project Spon...   \n",
       "\n",
       "                                             answers  \n",
       "0  \\n\\n\\n\\n \\n100E4I\\n100E4R\\n\\n\\n\\nCollaboration...  \n",
       "1  100E4I\\n100E4R\\n\\n\\n\\nDuration of cooperation\\...  \n",
       "2  \\nAISG will provide the templates for an organ...  \n",
       "3  AISG provides templates for organizations to s...  \n",
       "4  \\nTo ensure a successful outcome from the 100E...  "
      ]
     },
     "execution_count": 13,
     "metadata": {},
     "output_type": "execute_result"
    }
   ],
   "source": [
    "augmented_df.head()"
   ]
  },
  {
   "cell_type": "code",
   "execution_count": 14,
   "metadata": {},
   "outputs": [],
   "source": [
    "augmented_df.to_csv('training_data/augmented_data.csv')"
   ]
  }
 ],
 "metadata": {
  "kernelspec": {
   "display_name": "aiap-mini-project",
   "language": "python",
   "name": "python3"
  },
  "language_info": {
   "codemirror_mode": {
    "name": "ipython",
    "version": 3
   },
   "file_extension": ".py",
   "mimetype": "text/x-python",
   "name": "python",
   "nbconvert_exporter": "python",
   "pygments_lexer": "ipython3",
   "version": "3.10.10"
  },
  "orig_nbformat": 4
 },
 "nbformat": 4,
 "nbformat_minor": 2
}
